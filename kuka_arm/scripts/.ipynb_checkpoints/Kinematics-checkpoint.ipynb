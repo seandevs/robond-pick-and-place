{
 "metadata": {
  "name": "",
  "signature": "sha256:ca9d349bd0d8ad7aac2b8d0a3603b222b163d715b4ccc7f27487917ccf49208a"
 },
 "nbformat": 3,
 "nbformat_minor": 0,
 "worksheets": [
  {
   "cells": [
    {
     "cell_type": "code",
     "collapsed": false,
     "input": [
      "import numpy as np\n",
      "from numpy import array\n",
      "from sympy import symbols, cos, sin, pi, simplify, sqrt, atan2, acos\n",
      "from sympy.matrices import Matrix\n",
      "import pprint\n",
      "import tf\n",
      "pp = pprint.PrettyPrinter(indent=4)"
     ],
     "language": "python",
     "metadata": {},
     "outputs": [],
     "prompt_number": 1
    },
    {
     "cell_type": "code",
     "collapsed": false,
     "input": [
      "# Forward Kinematics"
     ],
     "language": "python",
     "metadata": {},
     "outputs": [],
     "prompt_number": 2
    },
    {
     "cell_type": "code",
     "collapsed": false,
     "input": [
      "# symbols\n",
      "alpha0, alpha1, alpha2, alpha3, alpha4, alpha5, alpha6 = symbols('alpha0:7')\n",
      "a0, a1, a2, a3, a4, a5, a6 = symbols('a0:7')\n",
      "q1, q2, q3, q4, q5, q6, q7 = symbols('q1:8')\n",
      "d1, d2, d3, d4, d5, d6, d7 = symbols('d1:8')\n",
      "theta_z, theta_y = symbols('theta_z theta_y') # for correction"
     ],
     "language": "python",
     "metadata": {},
     "outputs": [],
     "prompt_number": 3
    },
    {
     "cell_type": "code",
     "collapsed": false,
     "input": [
      "dh = {alpha0:      0,       a0: 0,   d1: 0.75,        q1: q1,\n",
      "      alpha1: -pi/2.,    a1: 0.35,      d2: 0,  q2: q2-pi/2., \n",
      "      alpha2:      0,    a2: 1.25,      d3: 0,        q3: q3,\n",
      "      alpha3: -pi/2.,  a3: -0.054,   d4: 1.50,        q4: q4,\n",
      "      alpha4:  pi/2.,       a4: 0,      d5: 0,        q5: q5,\n",
      "      alpha5: -pi/2.,       a5: 0,      d6: 0,        q6: q6,\n",
      "      alpha6:      0,       a6: 0,  d7: 0.303,         q7: 0}"
     ],
     "language": "python",
     "metadata": {},
     "outputs": [],
     "prompt_number": 4
    },
    {
     "cell_type": "code",
     "collapsed": false,
     "input": [
      "def transform(alpha, a, d, q):\n",
      "    return Matrix([[           cos(q),              -sin(q),           0,              a],\n",
      "                   [ sin(q)*cos(alpha),   cos(q)*cos(alpha), -sin(alpha),  -sin(alpha)*d],\n",
      "                   [ sin(q)*sin(alpha),   cos(q)*sin(alpha),  cos(alpha),   cos(alpha)*d],\n",
      "                   [                 0,                   0,           0,              1]]) "
     ],
     "language": "python",
     "metadata": {},
     "outputs": [],
     "prompt_number": 5
    },
    {
     "cell_type": "code",
     "collapsed": false,
     "input": [
      "T0_1 = transform(alpha0, a0, d1, q1).subs(dh)\n",
      "T1_2 = transform(alpha1, a1, d2, q2).subs(dh)\n",
      "T2_3 = transform(alpha2, a2, d3, q3).subs(dh)\n",
      "T3_4 = transform(alpha3, a3, d4, q4).subs(dh)\n",
      "T4_5 = transform(alpha4, a4, d5, q5).subs(dh)\n",
      "T5_6 = transform(alpha5, a5, d6, q6).subs(dh)\n",
      "T6_G = transform(alpha6, a6, d7, q7).subs(dh)\n",
      "\n",
      "T0_2 = T0_1 * T1_2\n",
      "T0_3 = T0_2 * T2_3\n",
      "T0_4 = T0_3 * T3_4\n",
      "T0_5 = T0_4 * T4_5\n",
      "T0_6 = T0_5 * T5_6\n",
      "T0_G = T0_6 * T6_G"
     ],
     "language": "python",
     "metadata": {},
     "outputs": [],
     "prompt_number": 6
    },
    {
     "cell_type": "code",
     "collapsed": false,
     "input": [
      "'''\n",
      "correctional transform\n",
      "use actual values instead of symbols for performance\n",
      "'''\n",
      "def R_x(roll): \n",
      "    return Matrix([[          1,          0,           0,    0],\n",
      "                   [          0,  cos(roll),  -sin(roll),    0],\n",
      "                   [          0,  sin(roll),   cos(roll),    0],\n",
      "                   [          0,          0,           0,    1]])                   \n",
      "\n",
      "# use -90 degrees for q -np.pi/2\n",
      "def R_y(pitch):\n",
      "    return Matrix([[ cos(pitch),          0,  sin(pitch),    0],\n",
      "                   [          0,          1,           0,    0],\n",
      "                   [-sin(pitch),          0,  cos(pitch),    0],\n",
      "                   [          0,          0,           0,    1]])\n",
      "# use 180 degrees for q np.pi\n",
      "def R_z(yaw): \n",
      "    return Matrix([[   cos(yaw),  -sin(yaw),           0,    0],\n",
      "                   [   sin(yaw),   cos(yaw),           0,    0],\n",
      "                   [          0,          0,           1,    0],\n",
      "                   [          0,          0,           0,    1]])"
     ],
     "language": "python",
     "metadata": {},
     "outputs": [],
     "prompt_number": 7
    },
    {
     "cell_type": "code",
     "collapsed": false,
     "input": [
      "R_fix = R_z(theta_z) * R_y(theta_y)"
     ],
     "language": "python",
     "metadata": {},
     "outputs": [],
     "prompt_number": 8
    },
    {
     "cell_type": "code",
     "collapsed": false,
     "input": [
      "Total_transform = T0_G * R_fix"
     ],
     "language": "python",
     "metadata": {},
     "outputs": [],
     "prompt_number": 9
    },
    {
     "cell_type": "code",
     "collapsed": false,
     "input": [
      "Total_transform = Total_transform.evalf(subs={q1: -.65, q2: 0.45, q3: -0.36, q4: .95, q5: .79, q6:.49, theta_y: -np.pi/2., theta_z: np.pi })\n",
      "pp.pprint(Total_transform)\n",
      "# correct values [2.1614, -1.4264, 1.5511]"
     ],
     "language": "python",
     "metadata": {},
     "outputs": [
      {
       "output_type": "stream",
       "stream": "stdout",
       "text": [
        "Matrix([\n",
        "[ 0.878171428365226,   0.477742953166197,   0.024012769582431,  2.16298054661547],\n",
        "[0.0582287384750241, -0.0569381714605884,  -0.996678212186025, -1.42438431475958],\n",
        "[-0.474788749254429,   0.876652562495978, -0.0778198448382493,  1.54309861553709],\n",
        "[                 0,                   0,                   0,               1.0]])\n"
       ]
      }
     ],
     "prompt_number": 10
    },
    {
     "cell_type": "code",
     "collapsed": false,
     "input": [
      "# Reverse Kinematics"
     ],
     "language": "python",
     "metadata": {},
     "outputs": [],
     "prompt_number": 11
    },
    {
     "cell_type": "code",
     "collapsed": false,
     "input": [
      "px, py, pz = symbols('px py pz') # from EE\n",
      "roll, pitch, yaw = symbols('roll pitch yaw') # from EE\n",
      "theta_z, theta_y = symbols('theta_z theta_y') # for correction"
     ],
     "language": "python",
     "metadata": {},
     "outputs": [],
     "prompt_number": 12
    },
    {
     "cell_type": "code",
     "collapsed": false,
     "input": [
      "quaternion = [0.709, 0.186, -0.158, 0.662]\n",
      "euler_angles = tf.transformations.euler_from_quaternion(quaternion)"
     ],
     "language": "python",
     "metadata": {},
     "outputs": [],
     "prompt_number": 13
    },
    {
     "cell_type": "code",
     "collapsed": false,
     "input": [
      "EE = Matrix([[px], [py], [pz]])\n",
      "d = dh[d7]\n",
      "Rrpy = R_z(yaw)[0:-1, 0:-1] * R_y(pitch)[0:-1, 0:-1] * R_x(roll)[0:-1, 0:-1] * R_fix[0:-1, 0:-1]\n",
      "WC = EE - d * Rrpy * Matrix([0, 0, 1])"
     ],
     "language": "python",
     "metadata": {},
     "outputs": [],
     "prompt_number": 14
    },
    {
     "cell_type": "code",
     "collapsed": false,
     "input": [
      "pp.pprint(WC.evalf(subs={px: 2.161, py: -1.426, pz: 1.551, roll: euler_angles[0], pitch: euler_angles[1], \n",
      "                         yaw: euler_angles[2], theta_z: np.pi, theta_y: -np.pi/2.}))\n",
      "# correct values [1.895, -1.443, 1.694]"
     ],
     "language": "python",
     "metadata": {},
     "outputs": [
      {
       "output_type": "stream",
       "stream": "stdout",
       "text": [
        "Matrix([\n",
        "[ 1.89407586320635],\n",
        "[-1.44252245460951],\n",
        "[ 1.69343424339195]])\n"
       ]
      }
     ],
     "prompt_number": 16
    },
    {
     "cell_type": "code",
     "collapsed": false,
     "input": [
      "# find thetas\n",
      "x = WC[0]\n",
      "y = WC[1] \n",
      "z = WC[2] - dh[d1]\n",
      "\n",
      "r = sqrt((x*x + y*y) - dh[a1])\n",
      "A = 1.503\n",
      "B = sqrt(r*r + z*z)\n",
      "C = 1.25\n",
      "\n",
      "angle_a = acos((B*B + C*C - A*A) / (2.*B*C))\n",
      "angle_b = acos((C*C + A*A - B*B) / (2.*C*A))"
     ],
     "language": "python",
     "metadata": {},
     "outputs": [],
     "prompt_number": 17
    },
    {
     "cell_type": "code",
     "collapsed": false,
     "input": [
      "theta_1 = atan2(WC[1], WC[2])\n",
      "theta_2 = np.pi/2. - (angle_a + atan2(z, r))\n",
      "theta_3 = np.pi/2. - (angle_b + (1 + dh[a3])) # to account for offset in original diagram"
     ],
     "language": "python",
     "metadata": {},
     "outputs": [],
     "prompt_number": 18
    },
    {
     "cell_type": "code",
     "collapsed": false,
     "input": [
      "#calculate R3_6\n",
      "R0_6 = Rrpy\n",
      "R0_3 = T0_1[0:3, 0:3] * T1_2[0:3, 0:3] * T2_3[0:3, 0:3]\n",
      "R3_6 = R0_3.inv('LU') * R0_6"
     ],
     "language": "python",
     "metadata": {},
     "outputs": [],
     "prompt_number": 19
    },
    {
     "cell_type": "code",
     "collapsed": false,
     "input": [
      "R3_4 = T3_4[0:3, 0:3]\n",
      "R4_5 = T4_5[0:3, 0:3]\n",
      "R5_6 = T5_6[0:3, 0:3]\n",
      "\n",
      "\n",
      "pp.pprint(R3_4)\n",
      "pp.pprint(R4_5)\n",
      "pp.pprint(R5_6)\n",
      "pp.pprint(R3_4*R4_5*R5_6*T6_G[0:3, 0:3])"
     ],
     "language": "python",
     "metadata": {},
     "outputs": [
      {
       "output_type": "stream",
       "stream": "stdout",
       "text": [
        "Matrix([\n",
        "[ cos(q4), -sin(q4), 0],\n",
        "[       0,        0, 1],\n",
        "[-sin(q4), -cos(q4), 0]])\n",
        "Matrix([\n",
        "[cos(q5), -sin(q5),  0],\n",
        "[      0,        0, -1],\n",
        "[sin(q5),  cos(q5),  0]])\n",
        "Matrix([\n",
        "[ cos(q6), -sin(q6), 0],\n",
        "[       0,        0, 1],\n",
        "[-sin(q6), -cos(q6), 0]])\n",
        "Matrix([\n",
        "[-sin(q4)*sin(q6) + cos(q4)*cos(q5)*cos(q6), -sin(q4)*cos(q6) - sin(q6)*cos(q4)*cos(q5), -sin(q5)*cos(q4)],\n",
        "[                           sin(q5)*cos(q6),                           -sin(q5)*sin(q6),          cos(q5)],\n",
        "[-sin(q4)*cos(q5)*cos(q6) - sin(q6)*cos(q4),  sin(q4)*sin(q6)*cos(q5) - cos(q4)*cos(q6),  sin(q4)*sin(q5)]])\n"
       ]
      }
     ],
     "prompt_number": 20
    },
    {
     "cell_type": "code",
     "collapsed": false,
     "input": [
      "theta_4 = atan2(R3_6[2,2], -R3_6[0,2])\n",
      "theta_5 = atan2(sqrt(R3_6[0,2]*R3_6[0,2] + R3_6[2,2]*R3_6[2,2]), R3_6[1,2])\n",
      "theta_6 = atan2(-R3_6[1,1], R3_6[1,0])\n",
      "#theta_5 = atan2(sqrt(R3_6[1,1]*R3_6[1,1] + R3_6[1,0]*R3_6[1,0]), R3_6[1,2])"
     ],
     "language": "python",
     "metadata": {},
     "outputs": []
    },
    {
     "cell_type": "code",
     "collapsed": false,
     "input": [],
     "language": "python",
     "metadata": {},
     "outputs": []
    }
   ],
   "metadata": {}
  }
 ]
}